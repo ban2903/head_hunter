{
 "cells": [
  {
   "cell_type": "code",
   "execution_count": 1,
   "metadata": {},
   "outputs": [],
   "source": [
    "import pandas as pd\n",
    "import ast"
   ]
  },
  {
   "cell_type": "code",
   "execution_count": 4,
   "metadata": {},
   "outputs": [
    {
     "data": {
      "text/html": [
       "<div>\n",
       "<style scoped>\n",
       "    .dataframe tbody tr th:only-of-type {\n",
       "        vertical-align: middle;\n",
       "    }\n",
       "\n",
       "    .dataframe tbody tr th {\n",
       "        vertical-align: top;\n",
       "    }\n",
       "\n",
       "    .dataframe thead th {\n",
       "        text-align: right;\n",
       "    }\n",
       "</style>\n",
       "<table border=\"1\" class=\"dataframe\">\n",
       "  <thead>\n",
       "    <tr style=\"text-align: right;\">\n",
       "      <th></th>\n",
       "      <th>categories_id</th>\n",
       "      <th>categories_name</th>\n",
       "      <th>profession_id</th>\n",
       "      <th>profession_name</th>\n",
       "    </tr>\n",
       "  </thead>\n",
       "  <tbody>\n",
       "    <tr>\n",
       "      <th>0</th>\n",
       "      <td>1</td>\n",
       "      <td>Продажи, обслуживание клиентов</td>\n",
       "      <td>10</td>\n",
       "      <td>Аналитик</td>\n",
       "    </tr>\n",
       "    <tr>\n",
       "      <th>1</th>\n",
       "      <td>1</td>\n",
       "      <td>Продажи, обслуживание клиентов</td>\n",
       "      <td>105</td>\n",
       "      <td>Руководитель отдела клиентского обслуживания</td>\n",
       "    </tr>\n",
       "    <tr>\n",
       "      <th>2</th>\n",
       "      <td>1</td>\n",
       "      <td>Продажи, обслуживание клиентов</td>\n",
       "      <td>106</td>\n",
       "      <td>Руководитель отдела продаж</td>\n",
       "    </tr>\n",
       "    <tr>\n",
       "      <th>3</th>\n",
       "      <td>1</td>\n",
       "      <td>Продажи, обслуживание клиентов</td>\n",
       "      <td>121</td>\n",
       "      <td>Специалист технической поддержки</td>\n",
       "    </tr>\n",
       "    <tr>\n",
       "      <th>4</th>\n",
       "      <td>1</td>\n",
       "      <td>Продажи, обслуживание клиентов</td>\n",
       "      <td>122</td>\n",
       "      <td>Страховой агент</td>\n",
       "    </tr>\n",
       "    <tr>\n",
       "      <th>...</th>\n",
       "      <td>...</td>\n",
       "      <td>...</td>\n",
       "      <td>...</td>\n",
       "      <td>...</td>\n",
       "    </tr>\n",
       "    <tr>\n",
       "      <th>265</th>\n",
       "      <td>9</td>\n",
       "      <td>Сельское хозяйство</td>\n",
       "      <td>19</td>\n",
       "      <td>Ветеринарный врач</td>\n",
       "    </tr>\n",
       "    <tr>\n",
       "      <th>266</th>\n",
       "      <td>9</td>\n",
       "      <td>Сельское хозяйство</td>\n",
       "      <td>43</td>\n",
       "      <td>Зоотехник</td>\n",
       "    </tr>\n",
       "    <tr>\n",
       "      <th>267</th>\n",
       "      <td>9</td>\n",
       "      <td>Сельское хозяйство</td>\n",
       "      <td>49</td>\n",
       "      <td>Технолог</td>\n",
       "    </tr>\n",
       "    <tr>\n",
       "      <th>268</th>\n",
       "      <td>9</td>\n",
       "      <td>Сельское хозяйство</td>\n",
       "      <td>63</td>\n",
       "      <td>Машинист</td>\n",
       "    </tr>\n",
       "    <tr>\n",
       "      <th>269</th>\n",
       "      <td>9</td>\n",
       "      <td>Сельское хозяйство</td>\n",
       "      <td>7</td>\n",
       "      <td>Агроном</td>\n",
       "    </tr>\n",
       "  </tbody>\n",
       "</table>\n",
       "<p>270 rows × 4 columns</p>\n",
       "</div>"
      ],
      "text/plain": [
       "     categories_id                 categories_name  profession_id  \\\n",
       "0                1  Продажи, обслуживание клиентов             10   \n",
       "1                1  Продажи, обслуживание клиентов            105   \n",
       "2                1  Продажи, обслуживание клиентов            106   \n",
       "3                1  Продажи, обслуживание клиентов            121   \n",
       "4                1  Продажи, обслуживание клиентов            122   \n",
       "..             ...                             ...            ...   \n",
       "265              9              Сельское хозяйство             19   \n",
       "266              9              Сельское хозяйство             43   \n",
       "267              9              Сельское хозяйство             49   \n",
       "268              9              Сельское хозяйство             63   \n",
       "269              9              Сельское хозяйство              7   \n",
       "\n",
       "                                  profession_name  \n",
       "0                                        Аналитик  \n",
       "1    Руководитель отдела клиентского обслуживания  \n",
       "2                      Руководитель отдела продаж  \n",
       "3                Специалист технической поддержки  \n",
       "4                                 Страховой агент  \n",
       "..                                            ...  \n",
       "265                             Ветеринарный врач  \n",
       "266                                     Зоотехник  \n",
       "267                                      Технолог  \n",
       "268                                      Машинист  \n",
       "269                                       Агроном  \n",
       "\n",
       "[270 rows x 4 columns]"
      ]
     },
     "execution_count": 4,
     "metadata": {},
     "output_type": "execute_result"
    }
   ],
   "source": [
    "df = pd.read_csv('profession_roles.csv')\n",
    "df"
   ]
  },
  {
   "cell_type": "code",
   "execution_count": 5,
   "metadata": {},
   "outputs": [
    {
     "name": "stdout",
     "output_type": "stream",
     "text": [
      "<class 'pandas.core.frame.DataFrame'>\n",
      "RangeIndex: 270 entries, 0 to 269\n",
      "Data columns (total 4 columns):\n",
      " #   Column           Non-Null Count  Dtype \n",
      "---  ------           --------------  ----- \n",
      " 0   categories_id    270 non-null    int64 \n",
      " 1   categories_name  270 non-null    object\n",
      " 2   profession_id    270 non-null    int64 \n",
      " 3   profession_name  270 non-null    object\n",
      "dtypes: int64(2), object(2)\n",
      "memory usage: 8.6+ KB\n"
     ]
    }
   ],
   "source": [
    "df.info()"
   ]
  },
  {
   "cell_type": "code",
   "execution_count": 164,
   "metadata": {},
   "outputs": [],
   "source": [
    "city_dictionary = [\n",
    "    ['Москва', 'г. Москва'],\n",
    "    ['Московская область', 'Московская область'],\n",
    "    ['Владимирская область', 'Владимирская область'],\n",
    "    ['Ростовская область', 'Ростовская область'],\n",
    "    ['Пермский край', 'Пермский край'],\n",
    "    ['Воронежская область', 'Воронежская область'],\n",
    "    ['Алтайский край', 'Алтайский край'],\n",
    "    ['Ханты-Мансийский АО - Югра', 'в том числе, Ханты-Мансийский автономный округ - Югра'],\n",
    "    ['Волгоградская область', 'Волгоградская область'],\n",
    "    ['Новосибирская область', 'Новосибирская область'],\n",
    "    ['Республика Татарстан', 'Республика Татарстан'],\n",
    "    ['Санкт-Петербург', 'г. Санкт-Петербург'],\n",
    "    ['Свердловская область', 'Свердловская область'],\n",
    "    ['Самарская область', 'Самарская область'],\n",
    "    ['Красноярский край', 'Красноярский край'],\n",
    "    ['Кировская область', 'Кировская область'],\n",
    "    ['Краснодарский край', 'Краснодарский край'],\n",
    "    ['Ленинградская область', 'Ленинградская область'],\n",
    "    ['Ставропольский край', 'Ставропольский край'],\n",
    "    ['Белгородская область', 'Белгородская область'],\n",
    "    ['Оренбургская область', 'Оренбургская область'],\n",
    "    ['Тульская область', 'Тульская область'],\n",
    "    ['Ульяновская область', 'Ульяновская область'],\n",
    "    ['Республика Башкортостан', 'Республика Башкортостан'],\n",
    "    ['Кемеровская область', 'Кемеровская область'],\n",
    "    ['Забайкальский край', 'Забайкальский край'],\n",
    "    ['Калужская область', 'Калужская область'],\n",
    "    ['Нижегородская область', 'Нижегородская область'],\n",
    "    ['Орловская область', 'Орловская область'],\n",
    "    ['Ярославская область', 'Ярославская область'],\n",
    "    ['Сахалинская область', 'Сахалинская область'],\n",
    "    ['Смоленская область', 'Смоленская область'],\n",
    "    ['Омская область', 'Омская область'],\n",
    "    ['Амурская область', 'Амурская область'],\n",
    "    ['Липецкая область', 'Липецкая область'],\n",
    "    ['Республика Бурятия', 'Республика Бурятия'],\n",
    "    ['Челябинская область', 'Челябинская область'],\n",
    "    ['Рязанская область', 'Рязанская область'],\n",
    "    ['Тверская область', 'Тверская область'],\n",
    "    ['Чувашская Республика', 'Чувашская Республика'],\n",
    "    ['Удмуртская Республика', 'Удмуртская Республика'],\n",
    "    ['Республика Мордовия', 'Республика Мордовия'],\n",
    "    ['Республика Коми', 'Республика Коми'],\n",
    "    ['Тюменская область', 'Тюменская область'],\n",
    "    ['Камчатский край', 'Камчатский край'],\n",
    "    ['Приморский край', 'Приморский край'],\n",
    "    ['Хабаровский край', 'Хабаровский край'],\n",
    "    ['Ивановская область', 'Ивановская область'],\n",
    "    ['Калининградская область', 'Калининградская область'],\n",
    "    ['Магаданская область', 'Магаданская область'],\n",
    "    ['Иркутская область', 'Иркутская область'],\n",
    "    ['Саратовская область', 'Саратовская область'],\n",
    "    ['Республика Дагестан', 'Республика Дагестан'],\n",
    "    ['Пензенская область', 'Пензенская область'],\n",
    "    ['Республика Адыгея', 'Республика Адыгея'],\n",
    "    ['Мурманская область', 'Мурманская область'],\n",
    "    ['Республика Крым', 'Республика Крым'],\n",
    "    ['Томская область', 'Томская область'],\n",
    "    ['Костромская область', 'Костромская область'],\n",
    "    ['Курская область', 'Курская область'],\n",
    "    ['Астраханская область', 'Астраханская область'],\n",
    "    ['Архангельская область', 'Архангельская область'],\n",
    "    ['Псковская область', 'Псковская область'],\n",
    "    ['Республика Саха (Якутия)', 'Республика Саха (Якутия)'],\n",
    "    ['Вологодская область', 'Вологодская область'],\n",
    "    ['Курганская область', 'Курганская область'],\n",
    "    ['Ямало-Ненецкий АО', 'Ямало-Ненецкий автономный округ'],\n",
    "    ['Брянская область', 'Брянская область'],\n",
    "    ['Новгородская область', 'Новгородская область'],\n",
    "    ['Тамбовская область', 'Тамбовская область'],\n",
    "    ['Республика Тыва', 'Республика Тыва'],\n",
    "    ['Республика Карелия', 'Республика Карелия'],\n",
    "    ['Республика Хакасия', 'Республика Хакасия'],\n",
    "    ['Республика Марий Эл', 'Республика Марий Эл'],\n",
    "    ['Республика Алтай', 'Республика Алтай'],\n",
    "    ['Чеченская республика', 'Чеченская Республика'],\n",
    "    ['Еврейская АО', 'Еврейская автономная область'],\n",
    "    ['Республика Северная Осетия-Алания', 'Республика Северная Осетия - Алания'],\n",
    "    ['Карачаево-Черкесская Республика', 'Карачаево-Черкесская Республика'],\n",
    "    ['Республика Калмыкия', 'Республика Калмыкия'],\n",
    "    ['Кабардино-Балкарская республика', 'Кабардино-Балкарская Республика'],\n",
    "    ['Чукотский АО', 'Чукотский автономный округ'],\n",
    "    ['Ненецкий АО', 'в том числе Ненецкий автономный округ'],\n",
    "    ['Республика Ингушетия', 'Республика Ингушетия'],\n",
    "]\n",
    "pd.DataFrame(city_dictionary, columns = ['in', 'out']).to_csv('city_dictionary.csv', index=False)"
   ]
  },
  {
   "cell_type": "code",
   "execution_count": null,
   "metadata": {},
   "outputs": [],
   "source": [
    "for i, path in enumerate(pathes[:]):\n",
    "    print(i, path)\n",
    "    rosstat = pd.read_excel(path)\n",
    "    print(rosstat.columns)\n",
    "    columns = ['out'] + [f'feature_{i}{k}'for k in range(len(rosstat.columns[1:]))]\n",
    "    print(columns)\n",
    "    rosstat.columns = columns\n",
    "    rosstat = rosstat[columns].sort_values(columns).drop_duplicates(['out'], keep='first')\n",
    "    rosstat['out'] = rosstat['out'].str.strip() # в некоторых колонках есть пробелы на конце\n",
    "    rosstat['out'] = rosstat['out'].apply(\n",
    "        lambda x: ' '.join(\n",
    "            [re.sub(r'[0-9]', '', xx) for xx in x.split()]\n",
    "            )\n",
    "    )\n",
    "    rosstat['out'] = rosstat['out'].str.replace(':', ',')\n",
    "    print(rosstat.columns)\n",
    "    for c in columns[1:]:\n",
    "        print(c)\n",
    "        rosstat[c] = rosstat[c].astype(str)\n",
    "        rosstat[c] = pd.to_numeric(rosstat[c], errors='coerce')\n",
    "    df2 = df2.merge(rosstat, on=['out'], how='left')\n",
    "    print(df2.shape)"
   ]
  },
  {
   "cell_type": "code",
   "execution_count": 41,
   "metadata": {},
   "outputs": [
    {
     "data": {
      "text/plain": [
       "'1.1.1'"
      ]
     },
     "execution_count": 41,
     "metadata": {},
     "output_type": "execute_result"
    }
   ],
   "source": [
    "import catboost\n",
    "catboost.__version__"
   ]
  },
  {
   "cell_type": "code",
   "execution_count": 163,
   "metadata": {},
   "outputs": [
    {
     "data": {
      "text/plain": [
       "0.6931471805599453"
      ]
     },
     "execution_count": 163,
     "metadata": {},
     "output_type": "execute_result"
    }
   ],
   "source": [
    "import numpy as np\n",
    "np.log(2)"
   ]
  },
  {
   "cell_type": "code",
   "execution_count": 10,
   "metadata": {},
   "outputs": [
    {
     "data": {
      "text/plain": [
       "'Юристы'"
      ]
     },
     "execution_count": 10,
     "metadata": {},
     "output_type": "execute_result"
    }
   ],
   "source": [
    "df[df.profession_id == 146]['categories_name'].values[0]"
   ]
  },
  {
   "cell_type": "code",
   "execution_count": 1,
   "metadata": {},
   "outputs": [],
   "source": [
    "%load_ext autoreload\n",
    "%autoreload 2\n",
    "import pandas as pd\n",
    "import numpy as np\n",
    "from salary_prediction import SalaryPrediciton"
   ]
  },
  {
   "cell_type": "code",
   "execution_count": 2,
   "metadata": {},
   "outputs": [],
   "source": [
    "model = SalaryPrediciton()"
   ]
  },
  {
   "cell_type": "code",
   "execution_count": null,
   "metadata": {},
   "outputs": [],
   "source": [
    "model_params = {\n",
    "    'nan_mode': 'Min',\n",
    "    'iterations': 1500,\n",
    "    'boosting_type': 'Plain',\n",
    "    'bootstrap_type': 'Bayesian',\n",
    "    'eval_metric': 'MultiClass',\n",
    "    'one_hot_max_size': 5,\n",
    "    'l2_leaf_reg': 3,\n",
    "    'border_count': 52,\n",
    "    'bagging_temperature': 1.01,\n",
    "    'min_data_in_leaf': 53\n",
    "}"
   ]
  },
  {
   "cell_type": "code",
   "execution_count": 3,
   "metadata": {},
   "outputs": [
    {
     "data": {
      "text/plain": [
       "{'nan_mode': 'Min',\n",
       " 'gpu_ram_part': 0.95,\n",
       " 'eval_metric': 'MultiClass',\n",
       " 'combinations_ctr': ['Borders:CtrBorderCount=15:CtrBorderType=Uniform:TargetBorderCount=1:TargetBorderType=MinEntropy:Prior=0/1:Prior=0.5/1:Prior=1/1',\n",
       "  'FeatureFreq:CtrBorderCount=15:CtrBorderType=Median:Prior=0/1'],\n",
       " 'iterations': 1500,\n",
       " 'fold_permutation_block': 64,\n",
       " 'leaf_estimation_method': 'Newton',\n",
       " 'observations_to_bootstrap': 'TestOnly',\n",
       " 'od_pval': 0,\n",
       " 'counter_calc_method': 'SkipTest',\n",
       " 'grow_policy': 'SymmetricTree',\n",
       " 'penalties_coefficient': 1,\n",
       " 'boosting_type': 'Plain',\n",
       " 'ctr_history_unit': 'Sample',\n",
       " 'feature_border_type': 'GreedyLogSum',\n",
       " 'bayesian_matrix_reg': 0.1000000015,\n",
       " 'one_hot_max_size': 2,\n",
       " 'devices': '-1',\n",
       " 'eval_fraction': 0,\n",
       " 'pinned_memory_bytes': '104857600',\n",
       " 'force_unit_auto_pair_weights': False,\n",
       " 'l2_leaf_reg': 3,\n",
       " 'random_strength': 1,\n",
       " 'od_type': 'Iter',\n",
       " 'rsm': 1,\n",
       " 'boost_from_average': False,\n",
       " 'gpu_cat_features_storage': 'GpuRam',\n",
       " 'fold_size_loss_normalization': False,\n",
       " 'max_ctr_complexity': 4,\n",
       " 'model_size_reg': 0.5,\n",
       " 'simple_ctr': ['Borders:CtrBorderCount=15:CtrBorderType=Uniform:TargetBorderCount=1:TargetBorderType=MinEntropy:Prior=0/1:Prior=0.5/1:Prior=1/1',\n",
       "  'FeatureFreq:CtrBorderCount=15:CtrBorderType=MinEntropy:Prior=0/1'],\n",
       " 'pool_metainfo_options': {'tags': {}},\n",
       " 'use_best_model': True,\n",
       " 'meta_l2_frequency': 0,\n",
       " 'od_wait': 50,\n",
       " 'class_names': ['[109999.0, 119999.0)',\n",
       "  '[119999.0, 129999.0)',\n",
       "  '[129999.0, 139999.0)',\n",
       "  '[139999.0, 149999.0)',\n",
       "  '[149999.0, 159999.0)',\n",
       "  '[159999.0, 169999.0)',\n",
       "  '[169999.0, 179999.0)',\n",
       "  '[179999.0, 189999.0)',\n",
       "  '[189999.0, 199999.0)',\n",
       "  '[19999.0, 29999.0)',\n",
       "  '[199999.0, 209999.0)',\n",
       "  '[209999.0, 219999.0)',\n",
       "  '[219999.0, 229999.0)',\n",
       "  '[29999.0, 39999.0)',\n",
       "  '[39999.0, 49999.0)',\n",
       "  '[49999.0, 59999.0)',\n",
       "  '[59999.0, 69999.0)',\n",
       "  '[69999.0, 79999.0)',\n",
       "  '[79999.0, 89999.0)',\n",
       "  '[89999.0, 99999.0)',\n",
       "  '[9999.0, 19999.0)',\n",
       "  '[99999.0, 109999.0)'],\n",
       " 'random_seed': 0,\n",
       " 'depth': 6,\n",
       " 'ctr_target_border_count': 1,\n",
       " 'has_time': False,\n",
       " 'border_count': 128,\n",
       " 'min_fold_size': 100,\n",
       " 'data_partition': 'DocParallel',\n",
       " 'bagging_temperature': 1,\n",
       " 'classes_count': 0,\n",
       " 'auto_class_weights': 'None',\n",
       " 'leaf_estimation_backtracking': 'AnyImprovement',\n",
       " 'best_model_min_trees': 1,\n",
       " 'min_data_in_leaf': 1,\n",
       " 'add_ridge_penalty_to_loss_function': False,\n",
       " 'text_processing': {'feature_processing': {'default': [{'dictionaries_names': ['BiGram',\n",
       "      'Word'],\n",
       "     'feature_calcers': ['BoW'],\n",
       "     'tokenizers_names': ['Space']},\n",
       "    {'dictionaries_names': ['Word'],\n",
       "     'feature_calcers': ['NaiveBayes'],\n",
       "     'tokenizers_names': ['Space']}]},\n",
       "  'dictionaries': [{'start_token_id': '0',\n",
       "    'occurrence_lower_bound': '5',\n",
       "    'skip_step': '0',\n",
       "    'end_of_word_token_policy': 'Insert',\n",
       "    'token_level_type': 'Word',\n",
       "    'end_of_sentence_token_policy': 'Skip',\n",
       "    'gram_order': '2',\n",
       "    'max_dictionary_size': '50000',\n",
       "    'dictionary_id': 'BiGram'},\n",
       "   {'start_token_id': '0',\n",
       "    'occurrence_lower_bound': '5',\n",
       "    'skip_step': '0',\n",
       "    'end_of_word_token_policy': 'Insert',\n",
       "    'token_level_type': 'Word',\n",
       "    'end_of_sentence_token_policy': 'Skip',\n",
       "    'gram_order': '1',\n",
       "    'max_dictionary_size': '50000',\n",
       "    'dictionary_id': 'Word'}],\n",
       "  'tokenizers': [{'number_token': '🔢',\n",
       "    'skip_empty': '1',\n",
       "    'number_process_policy': 'LeaveAsIs',\n",
       "    'tokenizer_id': 'Space',\n",
       "    'token_types': ['Number', 'Unknown', 'Word'],\n",
       "    'delimiter': ' ',\n",
       "    'languages': [],\n",
       "    'lemmatizing': '0',\n",
       "    'split_by_set': '0',\n",
       "    'lowercasing': '0',\n",
       "    'subtokens_policy': 'SingleToken',\n",
       "    'separator_type': 'ByDelimiter'}]},\n",
       " 'loss_function': 'MultiClass',\n",
       " 'learning_rate': 0.1415909976,\n",
       " 'meta_l2_exponent': 1,\n",
       " 'score_function': 'Cosine',\n",
       " 'task_type': 'GPU',\n",
       " 'leaf_estimation_iterations': 1,\n",
       " 'bootstrap_type': 'Bayesian',\n",
       " 'max_leaves': 64,\n",
       " 'permutation_count': 4}"
      ]
     },
     "execution_count": 3,
     "metadata": {},
     "output_type": "execute_result"
    }
   ],
   "source": [
    "model.model.get_all_params()"
   ]
  },
  {
   "cell_type": "code",
   "execution_count": null,
   "metadata": {},
   "outputs": [],
   "source": []
  },
  {
   "cell_type": "code",
   "execution_count": 3,
   "metadata": {},
   "outputs": [],
   "source": [
    "z = model.get_features('https://hh.ru/vacancy/78080083')"
   ]
  },
  {
   "cell_type": "code",
   "execution_count": 4,
   "metadata": {},
   "outputs": [
    {
     "data": {
      "text/html": [
       "<div>\n",
       "<style scoped>\n",
       "    .dataframe tbody tr th:only-of-type {\n",
       "        vertical-align: middle;\n",
       "    }\n",
       "\n",
       "    .dataframe tbody tr th {\n",
       "        vertical-align: top;\n",
       "    }\n",
       "\n",
       "    .dataframe thead th {\n",
       "        text-align: right;\n",
       "    }\n",
       "</style>\n",
       "<table border=\"1\" class=\"dataframe\">\n",
       "  <thead>\n",
       "    <tr style=\"text-align: right;\">\n",
       "      <th></th>\n",
       "      <th>item_id</th>\n",
       "      <th>real_salary_from</th>\n",
       "      <th>real_salary_to</th>\n",
       "      <th>url</th>\n",
       "      <th>billing_type</th>\n",
       "      <th>schedule</th>\n",
       "      <th>name</th>\n",
       "      <th>area</th>\n",
       "      <th>area_id</th>\n",
       "      <th>allow_messages</th>\n",
       "      <th>...</th>\n",
       "      <th>description_tfidf_хотеть</th>\n",
       "      <th>description_tfidf_цель</th>\n",
       "      <th>description_tfidf_центр</th>\n",
       "      <th>description_tfidf_час</th>\n",
       "      <th>description_tfidf_часть</th>\n",
       "      <th>description_tfidf_человек</th>\n",
       "      <th>description_tfidf_эксплуатация</th>\n",
       "      <th>description_tfidf_это</th>\n",
       "      <th>description_tfidf_являться</th>\n",
       "      <th>description_tfidf_язык</th>\n",
       "    </tr>\n",
       "  </thead>\n",
       "  <tbody>\n",
       "    <tr>\n",
       "      <th>0</th>\n",
       "      <td>78080083</td>\n",
       "      <td>120000.0</td>\n",
       "      <td>150000.0</td>\n",
       "      <td>https://api.hh.ru/vacancies/78080083</td>\n",
       "      <td>Стандарт</td>\n",
       "      <td>Полный день</td>\n",
       "      <td>Водитель-экспедитор категория С</td>\n",
       "      <td>Москва</td>\n",
       "      <td>1</td>\n",
       "      <td>True</td>\n",
       "      <td>...</td>\n",
       "      <td>0.0</td>\n",
       "      <td>0.0</td>\n",
       "      <td>0.0</td>\n",
       "      <td>0.0</td>\n",
       "      <td>0.0</td>\n",
       "      <td>0.0</td>\n",
       "      <td>0.0</td>\n",
       "      <td>0.0</td>\n",
       "      <td>0.0</td>\n",
       "      <td>0.0</td>\n",
       "    </tr>\n",
       "  </tbody>\n",
       "</table>\n",
       "<p>1 rows × 378 columns</p>\n",
       "</div>"
      ],
      "text/plain": [
       "    item_id  real_salary_from  real_salary_to  \\\n",
       "0  78080083          120000.0        150000.0   \n",
       "\n",
       "                                    url billing_type     schedule  \\\n",
       "0  https://api.hh.ru/vacancies/78080083     Стандарт  Полный день   \n",
       "\n",
       "                              name    area area_id  allow_messages  ...  \\\n",
       "0  Водитель-экспедитор категория С  Москва       1            True  ...   \n",
       "\n",
       "  description_tfidf_хотеть  description_tfidf_цель  description_tfidf_центр  \\\n",
       "0                      0.0                     0.0                      0.0   \n",
       "\n",
       "   description_tfidf_час description_tfidf_часть description_tfidf_человек  \\\n",
       "0                    0.0                     0.0                       0.0   \n",
       "\n",
       "   description_tfidf_эксплуатация  description_tfidf_это  \\\n",
       "0                             0.0                    0.0   \n",
       "\n",
       "  description_tfidf_являться  description_tfidf_язык  \n",
       "0                        0.0                     0.0  \n",
       "\n",
       "[1 rows x 378 columns]"
      ]
     },
     "execution_count": 4,
     "metadata": {},
     "output_type": "execute_result"
    }
   ],
   "source": [
    "z"
   ]
  },
  {
   "cell_type": "code",
   "execution_count": 119,
   "metadata": {},
   "outputs": [
    {
     "data": {
      "text/plain": [
       "array([['[109999.0, 119999.0)']], dtype=object)"
      ]
     },
     "execution_count": 119,
     "metadata": {},
     "output_type": "execute_result"
    }
   ],
   "source": [
    "model.predict(z)"
   ]
  },
  {
   "cell_type": "code",
   "execution_count": null,
   "metadata": {},
   "outputs": [],
   "source": []
  },
  {
   "cell_type": "code",
   "execution_count": 120,
   "metadata": {},
   "outputs": [
    {
     "name": "stdout",
     "output_type": "stream",
     "text": [
      "[109999.0, 119999.0)\n"
     ]
    }
   ],
   "source": [
    "model.shap_plot(z)"
   ]
  },
  {
   "cell_type": "code",
   "execution_count": 103,
   "metadata": {},
   "outputs": [
    {
     "data": {
      "text/plain": [
       "{'description_clear'}"
      ]
     },
     "execution_count": 103,
     "metadata": {},
     "output_type": "execute_result"
    }
   ],
   "source": [
    "set(_[0].index) - set(model.FEATURES)"
   ]
  },
  {
   "cell_type": "code",
   "execution_count": 100,
   "metadata": {},
   "outputs": [
    {
     "data": {
      "text/plain": [
       "Index(['billing_type', 'schedule', 'name', 'area', 'allow_messages',\n",
       "       'experience', 'accept_handicapped', 'accept_kids', 'employer',\n",
       "       'accept_temporary',\n",
       "       ...\n",
       "       'description_tfidf_цель', 'description_tfidf_центр',\n",
       "       'description_tfidf_час', 'description_tfidf_часть',\n",
       "       'description_tfidf_человек', 'description_tfidf_эксплуатация',\n",
       "       'description_tfidf_это', 'description_tfidf_являться',\n",
       "       'description_tfidf_язык', 'description_clear'],\n",
       "      dtype='object', length=322)"
      ]
     },
     "execution_count": 100,
     "metadata": {},
     "output_type": "execute_result"
    }
   ],
   "source": [
    "_[0].index"
   ]
  },
  {
   "cell_type": "code",
   "execution_count": 53,
   "metadata": {},
   "outputs": [
    {
     "ename": "NameError",
     "evalue": "name 'df' is not defined",
     "output_type": "error",
     "traceback": [
      "\u001b[1;31m---------------------------------------------------------------------------\u001b[0m",
      "\u001b[1;31mNameError\u001b[0m                                 Traceback (most recent call last)",
      "\u001b[1;32m<ipython-input-53-5372e18da6aa>\u001b[0m in \u001b[0;36m<module>\u001b[1;34m\u001b[0m\n\u001b[1;32m----> 1\u001b[1;33m \u001b[0mmodel\u001b[0m\u001b[1;33m.\u001b[0m\u001b[0mpredict\u001b[0m\u001b[1;33m(\u001b[0m\u001b[0mdf\u001b[0m\u001b[1;33m[\u001b[0m\u001b[0mmodel\u001b[0m\u001b[1;33m.\u001b[0m\u001b[0mFEATURES\u001b[0m\u001b[1;33m]\u001b[0m\u001b[1;33m)\u001b[0m\u001b[1;33m\u001b[0m\u001b[1;33m\u001b[0m\u001b[0m\n\u001b[0m",
      "\u001b[1;31mNameError\u001b[0m: name 'df' is not defined"
     ]
    }
   ],
   "source": [
    "model.predict(df[model.FEATURES])"
   ]
  },
  {
   "cell_type": "code",
   "execution_count": 22,
   "metadata": {},
   "outputs": [],
   "source": [
    "# from catboost import Pool, CatBoostClassifier\n",
    "# from config import FEATURES, CAT_FEATURES, TEXT_FEATURES\n",
    "# Pool(\n",
    "#     data=z[FEATURES],\n",
    "#     cat_features=CAT_FEATURES,\n",
    "#     text_features=TEXT_FEATURES\n",
    "# )"
   ]
  },
  {
   "cell_type": "code",
   "execution_count": 37,
   "metadata": {},
   "outputs": [
    {
     "data": {
      "text/plain": [
       "array([['[109999.0, 119999.0)']], dtype=object)"
      ]
     },
     "execution_count": 37,
     "metadata": {},
     "output_type": "execute_result"
    }
   ],
   "source": [
    "model.predict(z)"
   ]
  },
  {
   "cell_type": "code",
   "execution_count": 38,
   "metadata": {},
   "outputs": [
    {
     "name": "stdout",
     "output_type": "stream",
     "text": [
      "[109999.0, 119999.0)\n"
     ]
    }
   ],
   "source": [
    "model.shap_plot(z)"
   ]
  },
  {
   "cell_type": "code",
   "execution_count": 236,
   "metadata": {},
   "outputs": [
    {
     "data": {
      "text/html": [
       "<div>\n",
       "<style scoped>\n",
       "    .dataframe tbody tr th:only-of-type {\n",
       "        vertical-align: middle;\n",
       "    }\n",
       "\n",
       "    .dataframe tbody tr th {\n",
       "        vertical-align: top;\n",
       "    }\n",
       "\n",
       "    .dataframe thead th {\n",
       "        text-align: right;\n",
       "    }\n",
       "</style>\n",
       "<table border=\"1\" class=\"dataframe\">\n",
       "  <thead>\n",
       "    <tr style=\"text-align: right;\">\n",
       "      <th></th>\n",
       "      <th>uniq_skills_cnt</th>\n",
       "      <th>uniq_popular_skills_cnt</th>\n",
       "    </tr>\n",
       "  </thead>\n",
       "  <tbody>\n",
       "    <tr>\n",
       "      <th>0</th>\n",
       "      <td>5</td>\n",
       "      <td>3</td>\n",
       "    </tr>\n",
       "  </tbody>\n",
       "</table>\n",
       "</div>"
      ],
      "text/plain": [
       "   uniq_skills_cnt  uniq_popular_skills_cnt\n",
       "0                5                        3"
      ]
     },
     "execution_count": 236,
     "metadata": {},
     "output_type": "execute_result"
    }
   ],
   "source": [
    "z[['uniq_skills_cnt',\n",
    " 'uniq_popular_skills_cnt',]]"
   ]
  },
  {
   "cell_type": "code",
   "execution_count": 2,
   "metadata": {},
   "outputs": [
    {
     "name": "stderr",
     "output_type": "stream",
     "text": [
      "c:\\Users\\maksk\\Anaconda3\\lib\\site-packages\\IPython\\core\\interactiveshell.py:3071: DtypeWarning: Columns (48) have mixed types.Specify dtype option on import or set low_memory=False.\n",
      "  has_raised = await self.run_ast_nodes(code_ast.body, cell_name,\n"
     ]
    }
   ],
   "source": [
    "import pandas as pd\n",
    "df = pd.read_csv('../data/frame2.csv')\n",
    "df['area_id'] = 0\n",
    "df['key_skills_embeddiong'] = 0\n",
    "df[['feature_390', 'feature_210', 'feature_160', 'feature_180', 'feature_20', 'min_similar', 'feature_280', 'feature_140', 'feature_70', 'feature_410', 'feature_320', 'max_similar', 'feature_90', 'feature_290', 'feature_310', 'feature_30', 'feature_220', 'feature_415', 'feature_360', 'feature_350', 'feature_10', 'feature_130', 'feature_60', 'feature_240', 'feature_380', 'feature_412', 'feature_150', 'feature_120', 'real_salary_to', 'feature_270', 'mean_similar', 'feature_200', 'feature_230', 'feature_411', 'feature_170', 'feature_80', 'feature_370', 'feature_40', 'feature_420', 'feature_400', 'real_salary_from', 'feature_50', 'feature_340', 'feature_190', 'feature_450', 'feature_300', 'feature_413', 'feature_250', 'feature_00', 'feature_260', 'feature_440', 'feature_430', 'feature_414', 'feature_100', 'url', 'feature_330', 'feature_110']] = 0"
   ]
  },
  {
   "cell_type": "code",
   "execution_count": 4,
   "metadata": {},
   "outputs": [
    {
     "data": {
      "text/html": [
       "<div>\n",
       "<style scoped>\n",
       "    .dataframe tbody tr th:only-of-type {\n",
       "        vertical-align: middle;\n",
       "    }\n",
       "\n",
       "    .dataframe tbody tr th {\n",
       "        vertical-align: top;\n",
       "    }\n",
       "\n",
       "    .dataframe thead th {\n",
       "        text-align: right;\n",
       "    }\n",
       "</style>\n",
       "<table border=\"1\" class=\"dataframe\">\n",
       "  <thead>\n",
       "    <tr style=\"text-align: right;\">\n",
       "      <th></th>\n",
       "      <th>lat</th>\n",
       "      <th>item_id</th>\n",
       "    </tr>\n",
       "  </thead>\n",
       "  <tbody>\n",
       "    <tr>\n",
       "      <th>0</th>\n",
       "      <td>55.742711</td>\n",
       "      <td>74293318</td>\n",
       "    </tr>\n",
       "    <tr>\n",
       "      <th>1</th>\n",
       "      <td>55.959636</td>\n",
       "      <td>71654893</td>\n",
       "    </tr>\n",
       "    <tr>\n",
       "      <th>2</th>\n",
       "      <td>NaN</td>\n",
       "      <td>75694648</td>\n",
       "    </tr>\n",
       "    <tr>\n",
       "      <th>3</th>\n",
       "      <td>NaN</td>\n",
       "      <td>75791728</td>\n",
       "    </tr>\n",
       "    <tr>\n",
       "      <th>4</th>\n",
       "      <td>NaN</td>\n",
       "      <td>74301111</td>\n",
       "    </tr>\n",
       "    <tr>\n",
       "      <th>...</th>\n",
       "      <td>...</td>\n",
       "      <td>...</td>\n",
       "    </tr>\n",
       "    <tr>\n",
       "      <th>157047</th>\n",
       "      <td>55.548966</td>\n",
       "      <td>75728642</td>\n",
       "    </tr>\n",
       "    <tr>\n",
       "      <th>157048</th>\n",
       "      <td>52.604724</td>\n",
       "      <td>50655228</td>\n",
       "    </tr>\n",
       "    <tr>\n",
       "      <th>157049</th>\n",
       "      <td>NaN</td>\n",
       "      <td>76141831</td>\n",
       "    </tr>\n",
       "    <tr>\n",
       "      <th>157050</th>\n",
       "      <td>52.568285</td>\n",
       "      <td>75989155</td>\n",
       "    </tr>\n",
       "    <tr>\n",
       "      <th>157051</th>\n",
       "      <td>53.612864</td>\n",
       "      <td>70886053</td>\n",
       "    </tr>\n",
       "  </tbody>\n",
       "</table>\n",
       "<p>157052 rows × 2 columns</p>\n",
       "</div>"
      ],
      "text/plain": [
       "              lat   item_id\n",
       "0       55.742711  74293318\n",
       "1       55.959636  71654893\n",
       "2             NaN  75694648\n",
       "3             NaN  75791728\n",
       "4             NaN  74301111\n",
       "...           ...       ...\n",
       "157047  55.548966  75728642\n",
       "157048  52.604724  50655228\n",
       "157049        NaN  76141831\n",
       "157050  52.568285  75989155\n",
       "157051  53.612864  70886053\n",
       "\n",
       "[157052 rows x 2 columns]"
      ]
     },
     "execution_count": 4,
     "metadata": {},
     "output_type": "execute_result"
    }
   ],
   "source": [
    "df[['lat', 'item_id']]"
   ]
  },
  {
   "cell_type": "code",
   "execution_count": 234,
   "metadata": {},
   "outputs": [
    {
     "data": {
      "text/plain": [
       "['item_id',\n",
       " 'company_vacancies_url',\n",
       " 'item_url',\n",
       " 'has_premium',\n",
       " 'billing_type',\n",
       " 'schedule',\n",
       " 'name',\n",
       " 'area',\n",
       " 'salary_from',\n",
       " 'salary_to',\n",
       " 'salary_currency',\n",
       " 'is_gross',\n",
       " 'address',\n",
       " 'allow_messages',\n",
       " 'experience',\n",
       " 'department',\n",
       " 'contacts',\n",
       " 'description',\n",
       " 'key_skills_x',\n",
       " 'accept_handicapped',\n",
       " 'accept_kids',\n",
       " 'specializations',\n",
       " 'professional_roles',\n",
       " 'employer',\n",
       " 'published_at',\n",
       " 'working_days',\n",
       " 'working_time_intervals',\n",
       " 'working_time_modes',\n",
       " 'accept_temporary',\n",
       " 'languages',\n",
       " '0',\n",
       " '1',\n",
       " '2',\n",
       " '3',\n",
       " '4',\n",
       " '5',\n",
       " '6',\n",
       " '7',\n",
       " '8',\n",
       " '9',\n",
       " '10',\n",
       " '11',\n",
       " '12',\n",
       " '13',\n",
       " '14',\n",
       " '15',\n",
       " '16',\n",
       " '17',\n",
       " 'key_skills_y',\n",
       " 'salary_log',\n",
       " 'city',\n",
       " 'lat',\n",
       " 'lng',\n",
       " 'line_embedding',\n",
       " 'station_embedding',\n",
       " 'department_name',\n",
       " 'has_department',\n",
       " 'description_clear',\n",
       " 'description_len',\n",
       " 'key_skills_embedding',\n",
       " 'uniq_skills_cnt',\n",
       " 'uniq_popular_skills_cnt',\n",
       " 'professional_roles_id',\n",
       " 'dollar_rate',\n",
       " 'is_engl',\n",
       " 'is_ger',\n",
       " 'is_chi',\n",
       " 'cnt_lang',\n",
       " 'salary_from_rate_and_gross',\n",
       " 'salary_from_rate_and_gross_log',\n",
       " 'area_id',\n",
       " 'key_skills_embeddiong',\n",
       " 'feature_390',\n",
       " 'feature_210',\n",
       " 'feature_160',\n",
       " 'feature_180',\n",
       " 'feature_20',\n",
       " 'min_similar',\n",
       " 'feature_280',\n",
       " 'feature_140',\n",
       " 'feature_70',\n",
       " 'feature_410',\n",
       " 'feature_320',\n",
       " 'max_similar',\n",
       " 'feature_90',\n",
       " 'feature_290',\n",
       " 'feature_310',\n",
       " 'feature_30',\n",
       " 'feature_220',\n",
       " 'feature_415',\n",
       " 'feature_360',\n",
       " 'feature_350',\n",
       " 'feature_10',\n",
       " 'feature_130',\n",
       " 'feature_60',\n",
       " 'feature_240',\n",
       " 'feature_380',\n",
       " 'feature_412',\n",
       " 'feature_150',\n",
       " 'feature_120',\n",
       " 'real_salary_to',\n",
       " 'feature_270',\n",
       " 'mean_similar',\n",
       " 'feature_200',\n",
       " 'feature_230',\n",
       " 'feature_411',\n",
       " 'feature_170',\n",
       " 'feature_80',\n",
       " 'feature_370',\n",
       " 'feature_40',\n",
       " 'feature_420',\n",
       " 'feature_400',\n",
       " 'real_salary_from',\n",
       " 'feature_50',\n",
       " 'feature_340',\n",
       " 'feature_190',\n",
       " 'feature_450',\n",
       " 'feature_300',\n",
       " 'feature_413',\n",
       " 'feature_250',\n",
       " 'feature_00',\n",
       " 'feature_260',\n",
       " 'feature_440',\n",
       " 'feature_430',\n",
       " 'feature_414',\n",
       " 'feature_100',\n",
       " 'url',\n",
       " 'feature_330',\n",
       " 'feature_110']"
      ]
     },
     "execution_count": 234,
     "metadata": {},
     "output_type": "execute_result"
    }
   ],
   "source": [
    "df.columns.tolist()"
   ]
  },
  {
   "cell_type": "code",
   "execution_count": 235,
   "metadata": {},
   "outputs": [
    {
     "data": {
      "text/html": [
       "<div>\n",
       "<style scoped>\n",
       "    .dataframe tbody tr th:only-of-type {\n",
       "        vertical-align: middle;\n",
       "    }\n",
       "\n",
       "    .dataframe tbody tr th {\n",
       "        vertical-align: top;\n",
       "    }\n",
       "\n",
       "    .dataframe thead th {\n",
       "        text-align: right;\n",
       "    }\n",
       "</style>\n",
       "<table border=\"1\" class=\"dataframe\">\n",
       "  <thead>\n",
       "    <tr style=\"text-align: right;\">\n",
       "      <th></th>\n",
       "      <th>uniq_skills_cnt</th>\n",
       "      <th>uniq_popular_skills_cnt</th>\n",
       "    </tr>\n",
       "  </thead>\n",
       "  <tbody>\n",
       "    <tr>\n",
       "      <th>137543</th>\n",
       "      <td>5</td>\n",
       "      <td>4.0</td>\n",
       "    </tr>\n",
       "  </tbody>\n",
       "</table>\n",
       "</div>"
      ],
      "text/plain": [
       "        uniq_skills_cnt  uniq_popular_skills_cnt\n",
       "137543                5                      4.0"
      ]
     },
     "execution_count": 235,
     "metadata": {},
     "output_type": "execute_result"
    }
   ],
   "source": [
    "df[df['item_id'] == 76085328][[ 'uniq_skills_cnt',\n",
    " 'uniq_popular_skills_cnt',]]"
   ]
  },
  {
   "cell_type": "code",
   "execution_count": 232,
   "metadata": {},
   "outputs": [
    {
     "data": {
      "text/html": [
       "<div>\n",
       "<style scoped>\n",
       "    .dataframe tbody tr th:only-of-type {\n",
       "        vertical-align: middle;\n",
       "    }\n",
       "\n",
       "    .dataframe tbody tr th {\n",
       "        vertical-align: top;\n",
       "    }\n",
       "\n",
       "    .dataframe thead th {\n",
       "        text-align: right;\n",
       "    }\n",
       "</style>\n",
       "<table border=\"1\" class=\"dataframe\">\n",
       "  <thead>\n",
       "    <tr style=\"text-align: right;\">\n",
       "      <th></th>\n",
       "      <th>item_id</th>\n",
       "      <th>real_salary_from</th>\n",
       "      <th>real_salary_to</th>\n",
       "      <th>url</th>\n",
       "      <th>billing_type</th>\n",
       "      <th>schedule</th>\n",
       "      <th>name</th>\n",
       "      <th>area</th>\n",
       "      <th>area_id</th>\n",
       "      <th>allow_messages</th>\n",
       "      <th>...</th>\n",
       "      <th>feature_411</th>\n",
       "      <th>feature_412</th>\n",
       "      <th>feature_413</th>\n",
       "      <th>feature_414</th>\n",
       "      <th>feature_415</th>\n",
       "      <th>feature_420</th>\n",
       "      <th>feature_430</th>\n",
       "      <th>feature_440</th>\n",
       "      <th>feature_450</th>\n",
       "      <th>dollar_rate</th>\n",
       "    </tr>\n",
       "  </thead>\n",
       "  <tbody>\n",
       "    <tr>\n",
       "      <th>137543</th>\n",
       "      <td>76085328</td>\n",
       "      <td>0</td>\n",
       "      <td>0</td>\n",
       "      <td>0</td>\n",
       "      <td>Стандарт</td>\n",
       "      <td>Полный день</td>\n",
       "      <td>Финансовый менеджер</td>\n",
       "      <td>Москва</td>\n",
       "      <td>0</td>\n",
       "      <td>True</td>\n",
       "      <td>...</td>\n",
       "      <td>0</td>\n",
       "      <td>0</td>\n",
       "      <td>0</td>\n",
       "      <td>0</td>\n",
       "      <td>0</td>\n",
       "      <td>0</td>\n",
       "      <td>0</td>\n",
       "      <td>0</td>\n",
       "      <td>0</td>\n",
       "      <td>68.935907</td>\n",
       "    </tr>\n",
       "  </tbody>\n",
       "</table>\n",
       "<p>1 rows × 84 columns</p>\n",
       "</div>"
      ],
      "text/plain": [
       "         item_id  real_salary_from  real_salary_to  url billing_type  \\\n",
       "137543  76085328                 0               0    0     Стандарт   \n",
       "\n",
       "           schedule                 name    area  area_id  allow_messages  \\\n",
       "137543  Полный день  Финансовый менеджер  Москва        0            True   \n",
       "\n",
       "        ... feature_411  feature_412  feature_413  feature_414 feature_415  \\\n",
       "137543  ...           0            0            0            0           0   \n",
       "\n",
       "        feature_420  feature_430  feature_440 feature_450  dollar_rate  \n",
       "137543            0            0            0           0    68.935907  \n",
       "\n",
       "[1 rows x 84 columns]"
      ]
     },
     "execution_count": 232,
     "metadata": {},
     "output_type": "execute_result"
    }
   ],
   "source": [
    "df[df['item_id'] == 76085328][z.columns]"
   ]
  },
  {
   "cell_type": "code",
   "execution_count": 125,
   "metadata": {},
   "outputs": [
    {
     "data": {
      "text/plain": [
       "0          84\n",
       "1          62\n",
       "2          80\n",
       "3         120\n",
       "4          76\n",
       "         ... \n",
       "157047     74\n",
       "157048     74\n",
       "157049     72\n",
       "157050    117\n",
       "157051    145\n",
       "Name: 16, Length: 157052, dtype: int64"
      ]
     },
     "execution_count": 125,
     "metadata": {},
     "output_type": "execute_result"
    }
   ],
   "source": [
    "df['16']"
   ]
  },
  {
   "cell_type": "code",
   "execution_count": 87,
   "metadata": {},
   "outputs": [
    {
     "data": {
      "text/plain": [
       "[{'name': 'Работа в команде'},\n",
       " {'name': '1C: Финансы'},\n",
       " {'name': 'Анализ текущих финансовых показателей'},\n",
       " {'name': 'Высшее образование'},\n",
       " {'name': 'Работа в условиях многозадачности'}]"
      ]
     },
     "execution_count": 87,
     "metadata": {},
     "output_type": "execute_result"
    }
   ],
   "source": [
    "string = \"[{'name': 'Работа в команде'}, {'name': '1C: Финансы'}, {'name': 'Анализ текущих финансовых показателей'}, {'name': 'Высшее образование'}, {'name': 'Работа в условиях многозадачности'}]\"\n",
    "ast.literal_eval(string)"
   ]
  },
  {
   "cell_type": "code",
   "execution_count": 224,
   "metadata": {},
   "outputs": [
    {
     "name": "stderr",
     "output_type": "stream",
     "text": [
      "c:\\Users\\maksk\\Anaconda3\\lib\\site-packages\\IPython\\core\\interactiveshell.py:3071: DtypeWarning: Columns (49) have mixed types.Specify dtype option on import or set low_memory=False.\n",
      "  has_raised = await self.run_ast_nodes(code_ast.body, cell_name,\n"
     ]
    }
   ],
   "source": [
    "df = pd.read_csv('../data/dataset.csv')"
   ]
  },
  {
   "cell_type": "code",
   "execution_count": 225,
   "metadata": {},
   "outputs": [
    {
     "name": "stderr",
     "output_type": "stream",
     "text": [
      "100%|██████████| 224820/224820 [00:06<00:00, 32123.27it/s]\n"
     ]
    }
   ],
   "source": [
    "from collections import Counter\n",
    "\n",
    "# key_skills = {}\n",
    "\n",
    "key_skills = []\n",
    "\n",
    "from tqdm import tqdm \n",
    "for data in tqdm(df.key_skills_x.values):\n",
    "    if data != data:\n",
    "        continue\n",
    "    # print(data)\n",
    "    data = ast.literal_eval(data)\n",
    "    for key in data:\n",
    "        key_skills.append(key['name'])\n",
    "        # key_skills[key['name']] = key_skills.get(key['name'], 0)\n"
   ]
  },
  {
   "cell_type": "code",
   "execution_count": 226,
   "metadata": {},
   "outputs": [],
   "source": [
    "frame = pd.DataFrame(Counter(key_skills).most_common(300), columns=['skill', 'counter'])\n",
    "# frame.to_csv('skills_top300.csv', index=False)"
   ]
  },
  {
   "cell_type": "code",
   "execution_count": 157,
   "metadata": {},
   "outputs": [
    {
     "data": {
      "text/plain": [
       "array([0], dtype=int64)"
      ]
     },
     "execution_count": 157,
     "metadata": {},
     "output_type": "execute_result"
    }
   ],
   "source": [
    "df['dataset'].unique()"
   ]
  },
  {
   "cell_type": "code",
   "execution_count": 210,
   "metadata": {},
   "outputs": [],
   "source": [
    "import requests\n",
    "dt = pd.to_datetime('2023-02-25T00:09:57+0300').strftime('%Y-%m-%d')\n",
    "# df['published_at'] = pd.to_datetime(df['published_at'], format='%Y-%m-%d').dt.date.astype(str)\n",
    "base=\"USD\"\n",
    "out_curr=\"RUB\"\n",
    "start_date = dt\n",
    "end_date = dt\n",
    "# start_date, end_date\n",
    "url = 'https://api.exchangerate.host/timeseries?base={0}&start_date={1}&end_date={2}&symbols={3}'.format(base,start_date,end_date,out_curr)\n",
    "response = requests.get(url)\n",
    "r = response.json()"
   ]
  },
  {
   "cell_type": "code",
   "execution_count": 213,
   "metadata": {},
   "outputs": [
    {
     "data": {
      "text/plain": [
       "75.973047"
      ]
     },
     "execution_count": 213,
     "metadata": {},
     "output_type": "execute_result"
    }
   ],
   "source": [
    "r['rates'][dt]['RUB']"
   ]
  },
  {
   "cell_type": "code",
   "execution_count": 209,
   "metadata": {},
   "outputs": [
    {
     "data": {
      "text/plain": [
       "'2023-02-25'"
      ]
     },
     "execution_count": 209,
     "metadata": {},
     "output_type": "execute_result"
    }
   ],
   "source": [
    "import datetime\n",
    "pd.to_datetime('2023-02-25T00:09:57+0300').strftime('%Y-%m-%d')\n",
    "# datetime.datetime.strptime('\"2023-02-25T00:09:57+0300\"', '%Y-%m-%dT%H:%M:%S').date()"
   ]
  },
  {
   "cell_type": "code",
   "execution_count": 74,
   "metadata": {},
   "outputs": [
    {
     "data": {
      "text/html": [
       "<div>\n",
       "<style scoped>\n",
       "    .dataframe tbody tr th:only-of-type {\n",
       "        vertical-align: middle;\n",
       "    }\n",
       "\n",
       "    .dataframe tbody tr th {\n",
       "        vertical-align: top;\n",
       "    }\n",
       "\n",
       "    .dataframe thead th {\n",
       "        text-align: right;\n",
       "    }\n",
       "</style>\n",
       "<table border=\"1\" class=\"dataframe\">\n",
       "  <thead>\n",
       "    <tr style=\"text-align: right;\">\n",
       "      <th></th>\n",
       "      <th>skill</th>\n",
       "      <th>counter</th>\n",
       "    </tr>\n",
       "  </thead>\n",
       "  <tbody>\n",
       "    <tr>\n",
       "      <th>0</th>\n",
       "      <td>Работа в команде</td>\n",
       "      <td>32784</td>\n",
       "    </tr>\n",
       "    <tr>\n",
       "      <th>1</th>\n",
       "      <td>Грамотная речь</td>\n",
       "      <td>23618</td>\n",
       "    </tr>\n",
       "    <tr>\n",
       "      <th>2</th>\n",
       "      <td>Пользователь ПК</td>\n",
       "      <td>23501</td>\n",
       "    </tr>\n",
       "    <tr>\n",
       "      <th>3</th>\n",
       "      <td>Умение работать в команде</td>\n",
       "      <td>10087</td>\n",
       "    </tr>\n",
       "    <tr>\n",
       "      <th>4</th>\n",
       "      <td>Организаторские навыки</td>\n",
       "      <td>9672</td>\n",
       "    </tr>\n",
       "    <tr>\n",
       "      <th>...</th>\n",
       "      <td>...</td>\n",
       "      <td>...</td>\n",
       "    </tr>\n",
       "    <tr>\n",
       "      <th>295</th>\n",
       "      <td>Подготовка отчетов</td>\n",
       "      <td>376</td>\n",
       "    </tr>\n",
       "    <tr>\n",
       "      <th>296</th>\n",
       "      <td>Знание MS Office</td>\n",
       "      <td>375</td>\n",
       "    </tr>\n",
       "    <tr>\n",
       "      <th>297</th>\n",
       "      <td>Умение расставлять приоритеты</td>\n",
       "      <td>375</td>\n",
       "    </tr>\n",
       "    <tr>\n",
       "      <th>298</th>\n",
       "      <td>Информационные технологии</td>\n",
       "      <td>370</td>\n",
       "    </tr>\n",
       "    <tr>\n",
       "      <th>299</th>\n",
       "      <td>Детская психология</td>\n",
       "      <td>369</td>\n",
       "    </tr>\n",
       "  </tbody>\n",
       "</table>\n",
       "<p>300 rows × 2 columns</p>\n",
       "</div>"
      ],
      "text/plain": [
       "                             skill  counter\n",
       "0                 Работа в команде    32784\n",
       "1                   Грамотная речь    23618\n",
       "2                  Пользователь ПК    23501\n",
       "3        Умение работать в команде    10087\n",
       "4           Организаторские навыки     9672\n",
       "..                             ...      ...\n",
       "295             Подготовка отчетов      376\n",
       "296               Знание MS Office      375\n",
       "297  Умение расставлять приоритеты      375\n",
       "298      Информационные технологии      370\n",
       "299             Детская психология      369\n",
       "\n",
       "[300 rows x 2 columns]"
      ]
     },
     "execution_count": 74,
     "metadata": {},
     "output_type": "execute_result"
    }
   ],
   "source": [
    "frame"
   ]
  },
  {
   "cell_type": "code",
   "execution_count": 83,
   "metadata": {},
   "outputs": [
    {
     "data": {
      "text/plain": [
       "True"
      ]
     },
     "execution_count": 83,
     "metadata": {},
     "output_type": "execute_result"
    }
   ],
   "source": [
    "'Грамотная речь' in {k:i for i,k in enumerate(frame['skill'].values)}.keys()"
   ]
  },
  {
   "cell_type": "code",
   "execution_count": 76,
   "metadata": {},
   "outputs": [
    {
     "ename": "SyntaxError",
     "evalue": "invalid syntax (<ipython-input-76-886885876f33>, line 1)",
     "output_type": "error",
     "traceback": [
      "\u001b[1;36m  File \u001b[1;32m\"<ipython-input-76-886885876f33>\"\u001b[1;36m, line \u001b[1;32m1\u001b[0m\n\u001b[1;33m    [{k:i for i, k enumerate(frame['skill'].values)}]\u001b[0m\n\u001b[1;37m                   ^\u001b[0m\n\u001b[1;31mSyntaxError\u001b[0m\u001b[1;31m:\u001b[0m invalid syntax\n"
     ]
    }
   ],
   "source": [
    "[{k:i for i, k enumerate(frame['skill'].values)}]"
   ]
  },
  {
   "cell_type": "code",
   "execution_count": null,
   "metadata": {},
   "outputs": [],
   "source": [
    "sorted(key_skills_counter.items(), key=lambda x: x[1], reverse=True)"
   ]
  },
  {
   "cell_type": "code",
   "execution_count": 63,
   "metadata": {},
   "outputs": [
    {
     "data": {
      "text/plain": [
       "{'id': '76085328',\n",
       " 'premium': False,\n",
       " 'billing_type': {'id': 'standard', 'name': 'Стандарт'},\n",
       " 'relations': [],\n",
       " 'name': 'Финансовый менеджер',\n",
       " 'insider_interview': None,\n",
       " 'response_letter_required': False,\n",
       " 'area': {'id': '1', 'name': 'Москва', 'url': 'https://api.hh.ru/areas/1'},\n",
       " 'salary': {'from': 115000, 'to': None, 'currency': 'RUR', 'gross': True},\n",
       " 'type': {'id': 'open', 'name': 'Открытая'},\n",
       " 'address': None,\n",
       " 'allow_messages': True,\n",
       " 'experience': {'id': 'between3And6', 'name': 'От 3 до 6 лет'},\n",
       " 'schedule': {'id': 'fullDay', 'name': 'Полный день'},\n",
       " 'employment': {'id': 'full', 'name': 'Полная занятость'},\n",
       " 'department': None,\n",
       " 'contacts': None,\n",
       " 'description': '<p><strong>Обратите внимание, что место работы - Московская область, Одинцовский район,<br />территория «Парк патриот»!!!!</strong></p> <p><strong>Обязанности:</strong></p> <ul> <li>Управлять финансовыми средствами организации с целью получения прибыли.</li> <li>Разрабатывать проекты перспективных и текущих финансовых планов, прогнозных балансов и бюджетов денежных средств.</li> <li>Обеспечивать целевое использование собственных и заемных средств.</li> <li>Обеспечивать выполнение финансового плана и бюджета, плана по прибыли и другим финансовым показателям.</li> <li>Обеспечивать оперативное финансирование, выполнение расчетных и платежных обязательств, своевременное отражение происходящих изменений в платежеспособности организации, отслеживает состояние собственных средств.</li> </ul> <strong>Требования:</strong> <ul> <li>Высшее профессиональное (экономическое) образование.</li> <li>Стаж работы по специальности в области организации финансовой деятельности не менее 5 лет.</li> </ul> <strong>Условия:</strong> <ul> <li> <p><strong>!!!!!Место работы - Московская область, Одинцовский район,<br />территория «Парк патриот»!!!!</strong></p> </li> <li> <p><strong>Готовность пройти тестовое задание</strong></p> </li> <li> <p>Официальное оформление в соответствии с Трудовым кодексом РФ</p> </li> <li> <p>Своевременная выплата заработной платы 2 раза в месяц</p> </li> <li> <p>График работы 5/2</p> </li> <li> <p>Столовая на территории</p> </li> <li> <p>Возможно предоставление общежития</p> </li> <li> <p>Бесплатная форменная одежда</p> </li> <li> <p>Корпоративный транспорт от станции Голицыно</p> </li> </ul>',\n",
       " 'branded_description': None,\n",
       " 'vacancy_constructor_template': None,\n",
       " 'key_skills': [{'name': 'Работа в команде'},\n",
       "  {'name': '1C: Финансы'},\n",
       "  {'name': 'Анализ текущих финансовых показателей'},\n",
       "  {'name': 'Высшее образование'},\n",
       "  {'name': 'Работа в условиях многозадачности'}],\n",
       " 'accept_handicapped': False,\n",
       " 'accept_kids': False,\n",
       " 'archived': True,\n",
       " 'response_url': None,\n",
       " 'specializations': [],\n",
       " 'professional_roles': [{'id': '137', 'name': 'Финансовый менеджер'}],\n",
       " 'code': None,\n",
       " 'hidden': False,\n",
       " 'quick_responses_allowed': False,\n",
       " 'driver_license_types': [],\n",
       " 'accept_incomplete_resumes': False,\n",
       " 'employer': {'id': '4688557',\n",
       "  'name': 'АНО Учебно-Методический Центр Военно-Патриотического Воспитания Молодежи Авангард',\n",
       "  'url': 'https://api.hh.ru/employers/4688557',\n",
       "  'alternate_url': 'https://hh.ru/employer/4688557',\n",
       "  'logo_urls': None,\n",
       "  'vacancies_url': 'https://api.hh.ru/vacancies?employer_id=4688557',\n",
       "  'accredited_it_employer': False,\n",
       "  'trusted': True},\n",
       " 'published_at': '2023-01-23T11:27:29+0300',\n",
       " 'created_at': '2023-01-23T11:27:29+0300',\n",
       " 'initial_created_at': '2023-01-23T11:27:29+0300',\n",
       " 'negotiations_url': None,\n",
       " 'suitable_resumes_url': None,\n",
       " 'apply_alternate_url': 'https://hh.ru/applicant/vacancy_response?vacancyId=76085328',\n",
       " 'has_test': False,\n",
       " 'test': None,\n",
       " 'alternate_url': 'https://hh.ru/vacancy/76085328',\n",
       " 'working_days': [],\n",
       " 'working_time_intervals': [],\n",
       " 'working_time_modes': [],\n",
       " 'accept_temporary': False,\n",
       " 'languages': []}"
      ]
     },
     "execution_count": 63,
     "metadata": {},
     "output_type": "execute_result"
    }
   ],
   "source": [
    "import requests\n",
    "r = requests.get(f'https://api.hh.ru/vacancies/76085328')\n",
    "r.json()"
   ]
  },
  {
   "cell_type": "code",
   "execution_count": null,
   "metadata": {},
   "outputs": [],
   "source": []
  }
 ],
 "metadata": {
  "kernelspec": {
   "display_name": "avito",
   "language": "python",
   "name": "avito"
  },
  "language_info": {
   "codemirror_mode": {
    "name": "ipython",
    "version": 3
   },
   "file_extension": ".py",
   "mimetype": "text/x-python",
   "name": "python",
   "nbconvert_exporter": "python",
   "pygments_lexer": "ipython3",
   "version": "3.8.3"
  },
  "orig_nbformat": 4
 },
 "nbformat": 4,
 "nbformat_minor": 2
}
